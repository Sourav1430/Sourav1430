{
 "cells": [
  {
   "cell_type": "code",
   "execution_count": 5,
   "id": "f1061bca",
   "metadata": {},
   "outputs": [
    {
     "name": "stdout",
     "output_type": "stream",
     "text": [
      "<bound method NDFrame.head of           DeviceNum                             Name      Model            IP  \\\n",
      "Ministry                                                                        \n",
      "Rahul        260068           FLPEN-PACE URGENT CARE  InTouchDX   10.37.65.92   \n",
      "FLPEN        260104         FLPEN-GULF COAST ORTHO 2  InTouchDX  10.37.10.142   \n",
      "ALMOB        260105                ALMOB-GULF SHORES  InTouchDX  10.37.11.248   \n",
      "ALMOB        260106                      ALMOB-FOLEY  InTouchDX  10.41.16.154   \n",
      "Rahul        260127  FLPEN-TIGER POINT WOMENS CENTER  InTouchDX  10.37.30.248   \n",
      "FLPEN        260127  FLPEN-TIGER POINT WOMENS CENTER  InTouchDX  10.37.30.248   \n",
      "\n",
      "                Last Failure          Last Punch  \n",
      "Ministry                                          \n",
      "Rahul    2023-06-07 09:50:00 2022-04-29 18:07:00  \n",
      "FLPEN    2023-06-07 09:50:00 2021-08-09 12:53:00  \n",
      "ALMOB    2023-06-07 09:50:00 2022-12-30 07:52:00  \n",
      "ALMOB    2023-06-07 09:50:00 2022-12-30 07:35:00  \n",
      "Rahul    2023-06-07 09:50:00 2022-10-26 07:38:00  \n",
      "FLPEN    2023-06-07 09:50:00 2022-10-26 07:38:00  >\n"
     ]
    }
   ],
   "source": [
    "import pandas as pd \n",
    "\n",
    "file = 'Book1.xlsx'\n",
    "\n",
    "df = pd.read_excel(file, index_col=[0])\n",
    "print(df.head)"
   ]
  },
  {
   "cell_type": "code",
   "execution_count": null,
   "id": "fac536e5",
   "metadata": {},
   "outputs": [],
   "source": []
  }
 ],
 "metadata": {
  "kernelspec": {
   "display_name": "Python 3 (ipykernel)",
   "language": "python",
   "name": "python3"
  },
  "language_info": {
   "codemirror_mode": {
    "name": "ipython",
    "version": 3
   },
   "file_extension": ".py",
   "mimetype": "text/x-python",
   "name": "python",
   "nbconvert_exporter": "python",
   "pygments_lexer": "ipython3",
   "version": "3.10.8"
  }
 },
 "nbformat": 4,
 "nbformat_minor": 5
}
