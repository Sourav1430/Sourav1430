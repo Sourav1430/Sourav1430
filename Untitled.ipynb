{
 "cells": [
  {
   "cell_type": "code",
   "execution_count": 1,
   "id": "8dd63219",
   "metadata": {},
   "outputs": [
    {
     "name": "stdout",
     "output_type": "stream",
     "text": [
      "  Ministry  DeviceNum                             Name      Model  \\\n",
      "0    Rahul     260068           FLPEN-PACE URGENT CARE  InTouchDX   \n",
      "1    FLPEN     260104         FLPEN-GULF COAST ORTHO 2  InTouchDX   \n",
      "2    ALMOB     260105                ALMOB-GULF SHORES  InTouchDX   \n",
      "3    ALMOB     260106                      ALMOB-FOLEY  InTouchDX   \n",
      "4    Rahul     260127  FLPEN-TIGER POINT WOMENS CENTER  InTouchDX   \n",
      "5    FLPEN     260127  FLPEN-TIGER POINT WOMENS CENTER  InTouchDX   \n",
      "\n",
      "             IP        Last Failure          Last Punch  \n",
      "0   10.37.65.92 2023-06-07 09:50:00 2022-04-29 18:07:00  \n",
      "1  10.37.10.142 2023-06-07 09:50:00 2021-08-09 12:53:00  \n",
      "2  10.37.11.248 2023-06-07 09:50:00 2022-12-30 07:52:00  \n",
      "3  10.41.16.154 2023-06-07 09:50:00 2022-12-30 07:35:00  \n",
      "4  10.37.30.248 2023-06-07 09:50:00 2022-10-26 07:38:00  \n",
      "5  10.37.30.248 2023-06-07 09:50:00 2022-10-26 07:38:00  \n"
     ]
    }
   ],
   "source": [
    "import pandas as pd \n",
    "\n",
    "df = pd.read_excel('Book1.xlsx')\n",
    "\n",
    "print(df)"
   ]
  }
 ],
 "metadata": {
  "kernelspec": {
   "display_name": "Python 3 (ipykernel)",
   "language": "python",
   "name": "python3"
  },
  "language_info": {
   "codemirror_mode": {
    "name": "ipython",
    "version": 3
   },
   "file_extension": ".py",
   "mimetype": "text/x-python",
   "name": "python",
   "nbconvert_exporter": "python",
   "pygments_lexer": "ipython3",
   "version": "3.10.8"
  }
 },
 "nbformat": 4,
 "nbformat_minor": 5
}
